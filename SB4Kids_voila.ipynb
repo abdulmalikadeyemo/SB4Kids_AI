{
  "nbformat": 4,
  "nbformat_minor": 0,
  "metadata": {
    "colab": {
      "provenance": []
    },
    "kernelspec": {
      "name": "python3",
      "display_name": "Python 3"
    },
    "language_info": {
      "name": "python"
    }
  },
  "cells": [
    {
      "cell_type": "code",
      "execution_count": 1,
      "metadata": {
        "id": "V6Dm51VfGdVy"
      },
      "outputs": [],
      "source": [
        "from fastai.vision.all import *\n",
        "from fastai.vision.widgets import *"
      ]
    },
    {
      "cell_type": "code",
      "source": [
        "path = Path()\n",
        "learn_inf = load_learner(path/'export.pkl', cpu = True)\n",
        "btn_upload = widgets.FileUpload()\n",
        "out_pl = widgets.Output()\n",
        "lbl_pred = widgets.Label()\n",
        "btn_run = widgets.Button(description = 'Classify')"
      ],
      "metadata": {
        "id": "D21W2RE_GuQr"
      },
      "execution_count": null,
      "outputs": []
    },
    {
      "cell_type": "code",
      "source": [
        "def on_click_classify(change):\n",
        "    img = PILImage.create(btn_upload.data[-1])\n",
        "    out_pl.clear_output()\n",
        "    with out_pl: display(img.to_thumb(128,128))\n",
        "    pred, pred_idx, prob = learn_inf.predict(img)\n",
        "    percent_prob = (prob[pred_idx]) * 100\n",
        "    lbl_pred.value = f'The probability the picture you upload is a {pred} is {percent_prob:.04f}%'"
      ],
      "metadata": {
        "id": "PGJ5j_2mMqdz"
      },
      "execution_count": null,
      "outputs": []
    },
    {
      "cell_type": "code",
      "source": [
        "btn_run.on_click(on_click_classify)"
      ],
      "metadata": {
        "id": "rNEbsbRMMqVt"
      },
      "execution_count": null,
      "outputs": []
    },
    {
      "cell_type": "code",
      "source": [
        "VBox([widgets.Label('Upload the picture of your dog'), \n",
        "        btn_upload, btn_run, out_pl, lbl_pred])"
      ],
      "metadata": {
        "id": "r5ZkTHK6MqI7"
      },
      "execution_count": null,
      "outputs": []
    }
  ]
}